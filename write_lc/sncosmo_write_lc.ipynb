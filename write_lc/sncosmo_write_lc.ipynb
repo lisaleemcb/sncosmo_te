{
 "metadata": {
  "name": "",
  "signature": "sha256:e9749c3f695406af3c8a62d41760c78e1a9f668e70ac20ab056235f2f8d10cb8"
 },
 "nbformat": 3,
 "nbformat_minor": 0,
 "worksheets": [
  {
   "cells": [
    {
     "cell_type": "code",
     "collapsed": false,
     "input": [
      "import sncosmo"
     ],
     "language": "python",
     "metadata": {},
     "outputs": [],
     "prompt_number": 1
    },
    {
     "cell_type": "code",
     "collapsed": false,
     "input": [
      "data  = sncosmo.load_example_data()"
     ],
     "language": "python",
     "metadata": {},
     "outputs": [],
     "prompt_number": 2
    },
    {
     "cell_type": "code",
     "collapsed": false,
     "input": [
      "data"
     ],
     "language": "python",
     "metadata": {},
     "outputs": [
      {
       "html": [
        "<table id=\"table4389169040\"><thead><tr><th>time</th><th>band</th><th>flux</th><th>fluxerr</th><th>zp</th><th>zpsys</th></tr></thead><tr><td>55070.0</td><td>sdssg</td><td>0.36351153597</td><td>0.672843847541</td><td>25.0</td><td>ab</td></tr><tr><td>55072.0512821</td><td>sdssr</td><td>-0.200801295864</td><td>0.672843847541</td><td>25.0</td><td>ab</td></tr><tr><td>55074.1025641</td><td>sdssi</td><td>0.307494232981</td><td>0.672843847541</td><td>25.0</td><td>ab</td></tr><tr><td>55076.1538462</td><td>sdssz</td><td>1.08776103656</td><td>0.672843847541</td><td>25.0</td><td>ab</td></tr><tr><td>55078.2051282</td><td>sdssg</td><td>-0.43667895645</td><td>0.672843847541</td><td>25.0</td><td>ab</td></tr><tr><td>55080.2564103</td><td>sdssr</td><td>1.09780966779</td><td>0.672843847541</td><td>25.0</td><td>ab</td></tr><tr><td>55082.3076923</td><td>sdssi</td><td>3.7562685627</td><td>0.672843847541</td><td>25.0</td><td>ab</td></tr><tr><td>55084.3589744</td><td>sdssz</td><td>5.34858894966</td><td>0.672843847541</td><td>25.0</td><td>ab</td></tr><tr><td>55086.4102564</td><td>sdssg</td><td>2.82614187269</td><td>0.672843847541</td><td>25.0</td><td>ab</td></tr><tr><td>55088.4615385</td><td>sdssr</td><td>7.56547045054</td><td>0.672843847541</td><td>25.0</td><td>ab</td></tr><tr><td>55090.5128205</td><td>sdssi</td><td>7.43316961013</td><td>0.672843847541</td><td>25.0</td><td>ab</td></tr><tr><td>...</td><td>...</td><td>...</td><td>...</td><td>...</td><td>...</td></tr><tr><td>55129.4871795</td><td>sdssr</td><td>2.6597485586</td><td>0.672843847541</td><td>25.0</td><td>ab</td></tr><tr><td>55131.5384615</td><td>sdssi</td><td>3.99520404021</td><td>0.672843847541</td><td>25.0</td><td>ab</td></tr><tr><td>55133.5897436</td><td>sdssz</td><td>5.73989458094</td><td>0.672843847541</td><td>25.0</td><td>ab</td></tr><tr><td>55135.6410256</td><td>sdssg</td><td>0.330702283107</td><td>0.672843847541</td><td>25.0</td><td>ab</td></tr><tr><td>55137.6923077</td><td>sdssr</td><td>0.565286726579</td><td>0.672843847541</td><td>25.0</td><td>ab</td></tr><tr><td>55139.7435897</td><td>sdssi</td><td>3.04318346795</td><td>0.672843847541</td><td>25.0</td><td>ab</td></tr><tr><td>55141.7948718</td><td>sdssz</td><td>5.62692686384</td><td>0.672843847541</td><td>25.0</td><td>ab</td></tr><tr><td>55143.8461538</td><td>sdssg</td><td>-0.722654789013</td><td>0.672843847541</td><td>25.0</td><td>ab</td></tr><tr><td>55145.8974359</td><td>sdssr</td><td>1.12091764262</td><td>0.672843847541</td><td>25.0</td><td>ab</td></tr><tr><td>55147.9487179</td><td>sdssi</td><td>2.1246695264</td><td>0.672843847541</td><td>25.0</td><td>ab</td></tr><tr><td>55150.0</td><td>sdssz</td><td>5.3482175645</td><td>0.672843847541</td><td>25.0</td><td>ab</td></tr></table>"
       ],
       "metadata": {},
       "output_type": "pyout",
       "prompt_number": 3,
       "text": [
        "<Table rows=40 names=('time','band','flux','fluxerr','zp','zpsys')>\n",
        "array([(55070.0, 'sdssg', 0.36351153597, 0.672843847541, 25.0, 'ab'),\n",
        "       (55072.0512821, 'sdssr', -0.200801295864, 0.672843847541, 25.0, 'ab'),\n",
        "       (55074.1025641, 'sdssi', 0.307494232981, 0.672843847541, 25.0, 'ab'),\n",
        "       (55076.1538462, 'sdssz', 1.08776103656, 0.672843847541, 25.0, 'ab'),\n",
        "       (55078.2051282, 'sdssg', -0.43667895645, 0.672843847541, 25.0, 'ab'),\n",
        "       (55080.2564103, 'sdssr', 1.09780966779, 0.672843847541, 25.0, 'ab'),\n",
        "       (55082.3076923, 'sdssi', 3.7562685627, 0.672843847541, 25.0, 'ab'),\n",
        "       (55084.3589744, 'sdssz', 5.34858894966, 0.672843847541, 25.0, 'ab'),\n",
        "       (55086.4102564, 'sdssg', 2.82614187269, 0.672843847541, 25.0, 'ab'),\n",
        "       (55088.4615385, 'sdssr', 7.56547045054, 0.672843847541, 25.0, 'ab'),\n",
        "       (55090.5128205, 'sdssi', 7.43316961013, 0.672843847541, 25.0, 'ab'),\n",
        "       (55092.5641026, 'sdssz', 10.7032994531, 0.672843847541, 25.0, 'ab'),\n",
        "       (55094.6153846, 'sdssg', 1.57823662148, 0.672843847541, 25.0, 'ab'),\n",
        "       (55096.6666667, 'sdssr', 9.4201672834, 0.672843847541, 25.0, 'ab'),\n",
        "       (55098.7179487, 'sdssi', 12.1116206376, 0.672843847541, 25.0, 'ab'),\n",
        "       (55100.7692308, 'sdssz', 13.6445335233, 0.672843847541, 25.0, 'ab'),\n",
        "       (55102.8205128, 'sdssg', 2.20875359735, 0.672843847541, 25.0, 'ab'),\n",
        "       (55104.8717949, 'sdssr', 9.63442013167, 0.672843847541, 25.0, 'ab'),\n",
        "       (55106.9230769, 'sdssi', 11.3724767104, 0.672843847541, 25.0, 'ab'),\n",
        "       (55108.974359, 'sdssz', 12.5739036768, 0.672843847541, 25.0, 'ab'),\n",
        "       (55111.025641, 'sdssg', 0.608391162103, 0.672843847541, 25.0, 'ab'),\n",
        "       (55113.0769231, 'sdssr', 5.91642855037, 0.672843847541, 25.0, 'ab'),\n",
        "       (55115.1282051, 'sdssi', 7.99428156096, 0.672843847541, 25.0, 'ab'),\n",
        "       (55117.1794872, 'sdssz', 7.90862755929, 0.672843847541, 25.0, 'ab'),\n",
        "       (55119.2307692, 'sdssg', 0.679196211518, 0.672843847541, 25.0, 'ab'),\n",
        "       (55121.2820513, 'sdssr', 4.03447329476, 0.672843847541, 25.0, 'ab'),\n",
        "       (55123.3333333, 'sdssi', 7.03584281564, 0.672843847541, 25.0, 'ab'),\n",
        "       (55125.3846154, 'sdssz', 6.84086374285, 0.672843847541, 25.0, 'ab'),\n",
        "       (55127.4358974, 'sdssg', 0.325442801496, 0.672843847541, 25.0, 'ab'),\n",
        "       (55129.4871795, 'sdssr', 2.6597485586, 0.672843847541, 25.0, 'ab'),\n",
        "       (55131.5384615, 'sdssi', 3.99520404021, 0.672843847541, 25.0, 'ab'),\n",
        "       (55133.5897436, 'sdssz', 5.73989458094, 0.672843847541, 25.0, 'ab'),\n",
        "       (55135.6410256, 'sdssg', 0.330702283107, 0.672843847541, 25.0, 'ab'),\n",
        "       (55137.6923077, 'sdssr', 0.565286726579, 0.672843847541, 25.0, 'ab'),\n",
        "       (55139.7435897, 'sdssi', 3.04318346795, 0.672843847541, 25.0, 'ab'),\n",
        "       (55141.7948718, 'sdssz', 5.62692686384, 0.672843847541, 25.0, 'ab'),\n",
        "       (55143.8461538, 'sdssg', -0.722654789013, 0.672843847541, 25.0, 'ab'),\n",
        "       (55145.8974359, 'sdssr', 1.12091764262, 0.672843847541, 25.0, 'ab'),\n",
        "       (55147.9487179, 'sdssi', 2.1246695264, 0.672843847541, 25.0, 'ab'),\n",
        "       (55150.0, 'sdssz', 5.3482175645, 0.672843847541, 25.0, 'ab')], \n",
        "      dtype=[('time', '<f8'), ('band', 'S5'), ('flux', '<f8'), ('fluxerr', '<f8'), ('zp', '<f8'), ('zpsys', 'S2')])"
       ]
      }
     ],
     "prompt_number": 3
    },
    {
     "cell_type": "code",
     "collapsed": false,
     "input": [
      "sncosmo.write_lc(data, fname='lc.salt', format='salt') #works"
     ],
     "language": "python",
     "metadata": {},
     "outputs": [],
     "prompt_number": 7
    },
    {
     "cell_type": "code",
     "collapsed": false,
     "input": [
      "sncosmo.write_lc(data, fname='lc.json', format='json') #works"
     ],
     "language": "python",
     "metadata": {},
     "outputs": [],
     "prompt_number": 8
    },
    {
     "cell_type": "code",
     "collapsed": false,
     "input": [
      "sncosmo.write_lc(data, fname='lc.fits', format='snana', pedantic=False)"
     ],
     "language": "python",
     "metadata": {},
     "outputs": [],
     "prompt_number": 9
    },
    {
     "cell_type": "code",
     "collapsed": false,
     "input": [
      "help(sncosmo.write_lc)"
     ],
     "language": "python",
     "metadata": {},
     "outputs": [
      {
       "output_type": "stream",
       "stream": "stdout",
       "text": [
        "Help on function write_lc in module sncosmo.io:\n",
        "\n",
        "write_lc(data, fname, format='ascii', **kwargs)\n",
        "    Write light curve data.\n",
        "    \n",
        "    Parameters\n",
        "    ----------\n",
        "    data : `~astropy.table.Table`\n",
        "        Light curve data.\n",
        "    fname : str\n",
        "        Filename.\n",
        "    format : {'ascii', 'salt2', 'snana', 'json'}, optional\n",
        "        Format of file. Default is 'ascii'. 'salt2' is the new format available\n",
        "        in snfit version >= 2.3.0.\n",
        "    delim : str, optional\n",
        "        **[ascii only]** Character used to separate entries on a line.\n",
        "        Default is ' '.\n",
        "    metachar : str, optional\n",
        "        **[ascii only]** Metadata designator. Default is '@'.\n",
        "    raw : bool, optional\n",
        "        **[salt2, snana]** By default, the SALT2 and SNANA writers rename\n",
        "        some metadata keys and column names in order to comply with what\n",
        "        snfit and SNANA expect. Set to True to override this.\n",
        "        Default is False.\n",
        "    pedantic : bool, optional\n",
        "        **[salt2, snana]** If True, check that output column names and header\n",
        "        keys comply with expected formatting, and raise a ValueError if not.\n",
        "        It is probably a good idea to set to False when raw is True.\n",
        "        Default is True.\n",
        "\n"
       ]
      }
     ],
     "prompt_number": 5
    },
    {
     "cell_type": "code",
     "collapsed": false,
     "input": [],
     "language": "python",
     "metadata": {},
     "outputs": []
    }
   ],
   "metadata": {}
  }
 ]
}