{
 "metadata": {
  "name": "",
  "signature": "sha256:95e08790ca47a1b28cb7f43c72bdf9df4641deb7bdbef97c9d33c67d24b51c26"
 },
 "nbformat": 3,
 "nbformat_minor": 0,
 "worksheets": [
  {
   "cells": [
    {
     "cell_type": "code",
     "collapsed": false,
     "input": [
      "%matplotlib inline\n",
      "import numpy as np\n",
      "import matplotlib.pyplot as plt\n",
      "from astropy.table import Table"
     ],
     "language": "python",
     "metadata": {},
     "outputs": [],
     "prompt_number": 1
    },
    {
     "cell_type": "code",
     "collapsed": false,
     "input": [
      "import sncosmo\n",
      "# import simulate_lsst as sl"
     ],
     "language": "python",
     "metadata": {},
     "outputs": [],
     "prompt_number": 2
    },
    {
     "cell_type": "code",
     "collapsed": false,
     "input": [
      "import sncosmo\n",
      "import simulate_lsst as sl\n",
      "import numpy as np\n",
      "from numpy.random import normal, uniform\n",
      "import matplotlib.pyplot as plt\n",
      "from astropy.table import Table"
     ],
     "language": "python",
     "metadata": {},
     "outputs": [],
     "prompt_number": 3
    },
    {
     "cell_type": "code",
     "collapsed": false,
     "input": [
      "# First try with the Simulated LSST files. These files are simulated using SNANA\n",
      "# so the formatting is different. We can load the files and read them using the next few\n",
      "# functions\n"
     ],
     "language": "python",
     "metadata": {},
     "outputs": [],
     "prompt_number": 4
    },
    {
     "cell_type": "code",
     "collapsed": false,
     "input": [
      "# register LSST bandpasses with names like 'LSST_u', 'LSST_g', 'LSST_r', 'LSST_i' ,'LSST_z', 'LSST_Y' \n",
      "sl.getlsstbandpassobjs()"
     ],
     "language": "python",
     "metadata": {},
     "outputs": [],
     "prompt_number": 5
    },
    {
     "cell_type": "heading",
     "level": 3,
     "metadata": {},
     "source": [
      "Functions to maninpulate the SNANA format"
     ]
    },
    {
     "cell_type": "code",
     "collapsed": false,
     "input": [
      "# Helper Functions to load the SNANA Data\n",
      "def snanadatafile(snanafileroot, filetype='head', location='./'):\n",
      "    '''\n",
      "    obtain the name of the head of phot file of an SNANA simulation and dataset\n",
      "    \n",
      "    '''\n",
      "    import os\n",
      "    suffix = '_HEAD.FITS'\n",
      "    if filetype == 'phot':\n",
      "        suffix = '_PHOT.FITS'\n",
      "    fname = snanafileroot + suffix\n",
      "    return os.path.join(location, fname)\n",
      "    \n",
      "def loadSNANAData(snanafileroot, location='/.', snids=None, n=None):\n",
      "    '''\n",
      "    load a SNANA fits file into a list of `~astropy.Table.table` objects.\n",
      "    \n",
      "    \n",
      "    Parameters\n",
      "    ----------\n",
      "    snanafileroot: string, mandatory\n",
      "        root file name for the SNANA which is the prefix to '_HEAD.FITS', or '_PHOT.FITS'\n",
      "    location: string, optional defaults to current working directory './' \n",
      "        directory where the head and phot files are located\n",
      "    snids: integer/string, optional defaults to None\n",
      "        if not None, only SN observations corresponding to SNID snid are loaded\n",
      "    n: Integer, defaults to None\n",
      "        if not None, only the first n SN light curves are loaded\n",
      "        \n",
      "        \n",
      "    Returns: data\n",
      "        list of `~astropy.Table.Table` each Table containing a light curve of a SN. \n",
      "        \n",
      "    ..note: The column names of the SNANA data files are not reformated for SNCosmo use\n",
      "    '''\n",
      "    headfile = snanadatafile(snanafileroot, filetype='head', location=location)\n",
      "    photfile = snanadatafile(snanafileroot, filetype='phot', location=location)\n",
      "    data = sncosmo.read_snana_fits(head_file=headfile, phot_file=photfile, snids=snids, n=None)\n",
      "    return data"
     ],
     "language": "python",
     "metadata": {},
     "outputs": [],
     "prompt_number": 6
    },
    {
     "cell_type": "code",
     "collapsed": false,
     "input": [
      "def addbands(sn, lsstbands, replacement):\n",
      "    '''\n",
      "    add a column called 'band' to the `~astropy.Table.Table` by \n",
      "    applying the map of lsstbands to replacements to the content\n",
      "    of a column called 'FLT' \n",
      "    \n",
      "    Parameters\n",
      "    ----------\n",
      "    sn: `~astropy.Table.Table` obtained by reading an SNANA light curve\n",
      "    lsstbands: list of strings, mandatory\n",
      "        list of strings representing the filters in sn, which can be found\n",
      "        by `np.unique(sn['FLT'])\n",
      "    replacements: list of strings, mandatory\n",
      "        list of strings representing the filters as registered in SNCosmo in\n",
      "        the same order as lsstbands\n",
      "        \n",
      "    Returns\n",
      "    -------\n",
      "    `~astropy.Table.Table` with 'FLT' column removed and 'band' column added\n",
      "    '''\n",
      "    filterarray = np.zeros(len(sn), dtype='S8')\n",
      "    for i, flt in enumerate(lsstbands):\n",
      "        mask = sn['FLT']==flt\n",
      "        filterarray[mask] = replacement[i]\n",
      "        band = Table.Column(filterarray, name='band', dtype='S8')\n",
      "    sn.add_column(band)\n",
      "    sn.remove_column('FLT')"
     ],
     "language": "python",
     "metadata": {},
     "outputs": [],
     "prompt_number": 7
    },
    {
     "cell_type": "code",
     "collapsed": false,
     "input": [
      "def reformat_SNANASN(sn, lsstbands=None, replacements=None):\n",
      "    '''\n",
      "    reformat an SNANA light curve for use with SNCosmo\n",
      "    \n",
      "    Parameters\n",
      "    ----------\n",
      "    sn: `~astropy.Table.Table`, mandatory\n",
      "        representing SNANA light curve\n",
      "    lsstbands: list of strings, optional defaults to None\n",
      "        list of unique strings in any of the 'FLT' column of SNANA files\n",
      "    replacements: list of strings, optional defaults to None\n",
      "        list of unique strings of the same size as lsstbands, and indexed in the \n",
      "        same order representing the keys in the sncosmo.bandpass registry for the\n",
      "        same filters\n",
      "    \n",
      "    \n",
      "    Returns\n",
      "    -------\n",
      "    `astropy.Table.Table` of the SNANA light curve reformatted for SNCosmo \n",
      "    '''\n",
      "    #rename cols to names SNCosmo understands\n",
      "    sn.rename_column(\"FLUXCAL\",'flux')\n",
      "    sn.rename_column(\"FLUXCALERR\", 'fluxerr')\n",
      "    #Add in SNANA magic ZP and sys\n",
      "    sn[\"ZP\"] = 27.5\n",
      "    sn[\"ZPSYS\"] = 'ab'\n",
      "    # sn.rename_column('FLT', 'band')\n",
      "    \n",
      "    #Set up a truth dictionary from the metadata to set sim models\n",
      "    truth ={}\n",
      "    truth[\"c\"] = sn.meta[\"SIM_SALT2c\"]\n",
      "    truth[\"x0\"] = sn.meta[\"SIM_SALT2x0\"]*10**(-0.4 * 0.27)\n",
      "    truth[\"x1\"] = sn.meta[\"SIM_SALT2x1\"]\n",
      "    truth[\"t0\"] = sn.meta[\"SIM_PEAKMJD\"]\n",
      "    truth[\"mwebv\"] = sn.meta[\"SIM_MWEBV\"]\n",
      "    truth[\"z\"] = sn.meta[\"REDSHIFT_FINAL\"]\n",
      "    if replacements is not None:\n",
      "        addbands(sn, lsstbands, replacements)\n",
      "    return sn, truth"
     ],
     "language": "python",
     "metadata": {},
     "outputs": [],
     "prompt_number": 8
    },
    {
     "cell_type": "heading",
     "level": 3,
     "metadata": {},
     "source": [
      "Use the functions for a fit"
     ]
    },
    {
     "cell_type": "code",
     "collapsed": false,
     "input": [
      "lsstdeeplocation='/Users/rbiswas/data/SNDATA/SIM/PUBLIC_LSSTDEEP'"
     ],
     "language": "python",
     "metadata": {},
     "outputs": [],
     "prompt_number": 9
    },
    {
     "cell_type": "code",
     "collapsed": false,
     "input": [
      "data = loadSNANAData(snanafileroot='LSST_Ia', location=lsstdeeplocation)"
     ],
     "language": "python",
     "metadata": {},
     "outputs": [],
     "prompt_number": 10
    },
    {
     "cell_type": "code",
     "collapsed": false,
     "input": [
      "lsstbands = ['u', 'g', 'r', 'i', 'z', 'Y']\n",
      "replacement = ['LSST_' + flt for flt in lsstbands]\n",
      "print replacement, lsstbands"
     ],
     "language": "python",
     "metadata": {},
     "outputs": [
      {
       "output_type": "stream",
       "stream": "stdout",
       "text": [
        "['LSST_u', 'LSST_g', 'LSST_r', 'LSST_i', 'LSST_z', 'LSST_Y'] ['u', 'g', 'r', 'i', 'z', 'Y']\n"
       ]
      }
     ],
     "prompt_number": 11
    },
    {
     "cell_type": "code",
     "collapsed": false,
     "input": [
      "source = sncosmo.get_source('salt2-extended')\n",
      "dust = sncosmo.CCM89Dust()\n",
      "model = sncosmo.Model(source=source,\n",
      "                      effects=[dust, dust],\n",
      "                      effect_names=['host', 'mw'],\n",
      "                      effect_frames=['rest', 'obs'])"
     ],
     "language": "python",
     "metadata": {},
     "outputs": [],
     "prompt_number": 12
    },
    {
     "cell_type": "code",
     "collapsed": false,
     "input": [
      "sn, truth = reformat_SNANASN(data[1], lsstbands, replacement)\n",
      "snr = sn['flux']/sn['fluxerr']\n",
      "plt.hist(snr[snr > 3.])"
     ],
     "language": "python",
     "metadata": {},
     "outputs": [
      {
       "metadata": {},
       "output_type": "pyout",
       "prompt_number": 13,
       "text": [
        "(array([ 4.,  1.,  2.,  2.,  1.,  1.,  1.,  1.,  1.,  1.]),\n",
        " array([  3.07398057,   3.9444258 ,   4.81487103,   5.68531625,\n",
        "          6.55576148,   7.42620671,   8.29665194,   9.16709716,\n",
        "         10.03754239,  10.90798762,  11.77843285]),\n",
        " <a list of 10 Patch objects>)"
       ]
      },
      {
       "metadata": {},
       "output_type": "display_data",
       "png": "[encoded data removed]",
       "text": [
        "<matplotlib.figure.Figure at 0x108300bd0>"
       ]
      }
     ],
     "prompt_number": 13
    },
    {
     "cell_type": "code",
     "collapsed": false,
     "input": [
      "model.set(**truth)"
     ],
     "language": "python",
     "metadata": {},
     "outputs": [],
     "prompt_number": 14
    },
    {
     "cell_type": "code",
     "collapsed": false,
     "input": [
      "fit_res, fit_model = sncosmo.fit_lc(sn, model, vparam_names=['t0', 'x0', 'x1', 'c'], \n",
      "                                    bounds={'c':(-0.3, 0.3), 'x1':(-3.0, 3.0)}, minsnr=3.0)\n",
      "                                                                                            "
     ],
     "language": "python",
     "metadata": {},
     "outputs": []
    },
    {
     "cell_type": "code",
     "collapsed": false,
     "input": [
      "nest_res, nest_model = sncosmo.nest_lc(sn, model, vparam_names=['t0', 'x0', 'x1', 'c'], \n",
      "                                    bounds={'c':(-0.3, 0.3), 'x1':(-3.0, 3.0)}, guess_amplitude_bound=True, minsnr=3.0, \n",
      "                                    verbose=True)"
     ],
     "language": "python",
     "metadata": {},
     "outputs": [
      {
       "output_type": "stream",
       "stream": "stdout",
       "text": [
        "\r",
        " iter=     0 logz="
       ]
      },
      {
       "output_type": "stream",
       "stream": "stdout",
       "text": [
        "\r",
        " iter=     1 logz=-142448.568650"
       ]
      },
      {
       "output_type": "stream",
       "stream": "stdout",
       "text": [
        "\r",
        " iter=     2 logz=-41628.511583"
       ]
      },
      {
       "output_type": "stream",
       "stream": "stdout",
       "text": [
        "\r",
        " iter=     3 logz=-38710.147885"
       ]
      },
      {
       "output_type": "stream",
       "stream": "stdout",
       "text": [
        "\r",
        " iter=     4 logz=-33997.064029"
       ]
      },
      {
       "output_type": "stream",
       "stream": "stdout",
       "text": [
        "\r",
        " iter=     5 logz=-33109.217675"
       ]
      },
      {
       "output_type": "stream",
       "stream": "stdout",
       "text": [
        "\r",
        " iter=     6 logz=-29477.725955"
       ]
      },
      {
       "output_type": "stream",
       "stream": "stdout",
       "text": [
        "\r",
        " iter=     7 logz=-26803.733386"
       ]
      },
      {
       "output_type": "stream",
       "stream": "stdout",
       "text": [
        "\r",
        " iter=     8 logz=-26330.191361"
       ]
      },
      {
       "output_type": "stream",
       "stream": "stdout",
       "text": [
        "\r",
        " iter=     9 logz=-25333.012834"
       ]
      },
      {
       "output_type": "stream",
       "stream": "stdout",
       "text": [
        "\r",
        " iter=    10 logz=-24605.571532"
       ]
      },
      {
       "output_type": "stream",
       "stream": "stdout",
       "text": [
        "\r",
        " iter=    11 logz=-24312.321796"
       ]
      },
      {
       "output_type": "stream",
       "stream": "stdout",
       "text": [
        "\r",
        " iter=    12 logz=-23699.709211"
       ]
      },
      {
       "output_type": "stream",
       "stream": "stdout",
       "text": [
        "\r",
        " iter=    13 logz=-23662.755750"
       ]
      },
      {
       "output_type": "stream",
       "stream": "stdout",
       "text": [
        "\r",
        " iter=    14 logz=-22531.880542"
       ]
      },
      {
       "output_type": "stream",
       "stream": "stdout",
       "text": [
        "\r",
        " iter=    15 logz=-21689.497965"
       ]
      },
      {
       "output_type": "stream",
       "stream": "stdout",
       "text": [
        "\r",
        " iter=    16 logz=-21229.547820"
       ]
      },
      {
       "output_type": "stream",
       "stream": "stdout",
       "text": [
        "\r",
        " iter=    17 logz=-20813.919163"
       ]
      },
      {
       "output_type": "stream",
       "stream": "stdout",
       "text": [
        "\r",
        " iter=    18 logz=-20696.693463"
       ]
      },
      {
       "output_type": "stream",
       "stream": "stdout",
       "text": [
        "\r",
        " iter=    19 logz=-19151.637967"
       ]
      },
      {
       "output_type": "stream",
       "stream": "stdout",
       "text": [
        "\r",
        " iter=    20 logz=-19051.599884"
       ]
      },
      {
       "output_type": "stream",
       "stream": "stdout",
       "text": [
        "\r",
        " iter=    21 logz=-17230.613014"
       ]
      },
      {
       "output_type": "stream",
       "stream": "stdout",
       "text": [
        "\r",
        " iter=    22 logz=-13659.259505"
       ]
      },
      {
       "output_type": "stream",
       "stream": "stdout",
       "text": [
        "\r",
        " iter=    23 logz=-13022.972397"
       ]
      },
      {
       "output_type": "stream",
       "stream": "stdout",
       "text": [
        "\r",
        " iter=    24 logz=-10981.910082"
       ]
      },
      {
       "output_type": "stream",
       "stream": "stdout",
       "text": [
        "\r",
        " iter=    25 logz=-10552.402801"
       ]
      },
      {
       "output_type": "stream",
       "stream": "stdout",
       "text": [
        "\r",
        " iter=    26 logz=-10513.067220"
       ]
      },
      {
       "output_type": "stream",
       "stream": "stdout",
       "text": [
        "\r",
        " iter=    27 logz=-9920.208508"
       ]
      },
      {
       "output_type": "stream",
       "stream": "stdout",
       "text": [
        "\r",
        " iter=    28 logz=-9732.347945"
       ]
      },
      {
       "output_type": "stream",
       "stream": "stdout",
       "text": [
        "\r",
        " iter=    29 logz=-9219.458914"
       ]
      },
      {
       "output_type": "stream",
       "stream": "stdout",
       "text": [
        "\r",
        " iter=    30 logz=-9124.056212"
       ]
      },
      {
       "output_type": "stream",
       "stream": "stdout",
       "text": [
        "\r",
        " iter=    31 logz=-8646.865487"
       ]
      },
      {
       "output_type": "stream",
       "stream": "stdout",
       "text": [
        "\r",
        " iter=    32 logz=-8514.655460"
       ]
      },
      {
       "output_type": "stream",
       "stream": "stdout",
       "text": [
        "\r",
        " iter=    33 logz=-8112.527178"
       ]
      },
      {
       "output_type": "stream",
       "stream": "stdout",
       "text": [
        "\r",
        " iter=    34 logz=-8079.672002"
       ]
      },
      {
       "output_type": "stream",
       "stream": "stdout",
       "text": [
        "\r",
        " iter=    35 logz=-8028.630966"
       ]
      },
      {
       "output_type": "stream",
       "stream": "stdout",
       "text": [
        "\r",
        " iter=    36 logz=-7649.618384"
       ]
      },
      {
       "output_type": "stream",
       "stream": "stdout",
       "text": [
        "\r",
        " iter=    37 logz=-6972.656519"
       ]
      },
      {
       "output_type": "stream",
       "stream": "stdout",
       "text": [
        "\r",
        " iter=    38 logz=-6407.864432"
       ]
      },
      {
       "output_type": "stream",
       "stream": "stdout",
       "text": [
        "\r",
        " iter=    39 logz=-6348.030264"
       ]
      },
      {
       "output_type": "stream",
       "stream": "stdout",
       "text": [
        "\r",
        " iter=    40 logz=-6247.983724"
       ]
      },
      {
       "output_type": "stream",
       "stream": "stdout",
       "text": [
        "\r",
        " iter=    41 logz=-6156.621659"
       ]
      },
      {
       "output_type": "stream",
       "stream": "stdout",
       "text": [
        "\r",
        " iter=    42 logz=-6055.079447"
       ]
      },
      {
       "output_type": "stream",
       "stream": "stdout",
       "text": [
        "\r",
        " iter=    43 logz=-5983.397285"
       ]
      },
      {
       "output_type": "stream",
       "stream": "stdout",
       "text": [
        "\r",
        " iter=    44 logz=-5854.122838"
       ]
      },
      {
       "output_type": "stream",
       "stream": "stdout",
       "text": [
        "\r",
        " iter=    45 logz=-5740.651193"
       ]
      },
      {
       "output_type": "stream",
       "stream": "stdout",
       "text": [
        "\r",
        " iter=    46 logz=-5094.828584"
       ]
      },
      {
       "output_type": "stream",
       "stream": "stdout",
       "text": [
        "\r",
        " iter=    47 logz=-5073.558072"
       ]
      },
      {
       "output_type": "stream",
       "stream": "stdout",
       "text": [
        "\r",
        " iter=    48 logz=-4670.468192"
       ]
      },
      {
       "output_type": "stream",
       "stream": "stdout",
       "text": [
        "\r",
        " iter=    49 logz=-4140.185964"
       ]
      },
      {
       "output_type": "stream",
       "stream": "stdout",
       "text": [
        "\r",
        " iter=    50 logz=-3967.620504"
       ]
      },
      {
       "output_type": "stream",
       "stream": "stdout",
       "text": [
        "\r",
        " iter=    51 logz=-3932.544798"
       ]
      },
      {
       "output_type": "stream",
       "stream": "stdout",
       "text": [
        "\r",
        " iter=    52 logz=-3787.429067"
       ]
      },
      {
       "output_type": "stream",
       "stream": "stdout",
       "text": [
        "\r",
        " iter=    53 logz=-3762.485824"
       ]
      },
      {
       "output_type": "stream",
       "stream": "stdout",
       "text": [
        "\r",
        " iter=    54 logz=-3696.613222"
       ]
      },
      {
       "output_type": "stream",
       "stream": "stdout",
       "text": [
        "\r",
        " iter=    55 logz=-3578.278077"
       ]
      },
      {
       "output_type": "stream",
       "stream": "stdout",
       "text": [
        "\r",
        " iter=    56 logz=-3408.140704"
       ]
      },
      {
       "output_type": "stream",
       "stream": "stdout",
       "text": [
        "\r",
        " iter=    57 logz=-3365.241159"
       ]
      },
      {
       "output_type": "stream",
       "stream": "stdout",
       "text": [
        "\r",
        " iter=    58 logz=-3099.858129"
       ]
      },
      {
       "output_type": "stream",
       "stream": "stdout",
       "text": [
        "\r",
        " iter=    59 logz=-3005.318733"
       ]
      },
      {
       "output_type": "stream",
       "stream": "stdout",
       "text": [
        "\r",
        " iter=    60 logz=-2839.672378"
       ]
      },
      {
       "output_type": "stream",
       "stream": "stdout",
       "text": [
        "\r",
        " iter=    61 logz=-2703.725416"
       ]
      },
      {
       "output_type": "stream",
       "stream": "stdout",
       "text": [
        "\r",
        " iter=    62 logz=-2657.520568"
       ]
      },
      {
       "output_type": "stream",
       "stream": "stdout",
       "text": [
        "\r",
        " iter=    63 logz=-2581.070571"
       ]
      },
      {
       "output_type": "stream",
       "stream": "stdout",
       "text": [
        "\r",
        " iter=    64 logz=-2430.382311"
       ]
      },
      {
       "output_type": "stream",
       "stream": "stdout",
       "text": [
        "\r",
        " iter=    65 logz=-2267.950134"
       ]
      },
      {
       "output_type": "stream",
       "stream": "stdout",
       "text": [
        "\r",
        " iter=    66 logz=-2188.479423"
       ]
      },
      {
       "output_type": "stream",
       "stream": "stdout",
       "text": [
        "\r",
        " iter=    67 logz=-1889.441879"
       ]
      },
      {
       "output_type": "stream",
       "stream": "stdout",
       "text": [
        "\r",
        " iter=    68 logz=-1864.749886"
       ]
      },
      {
       "output_type": "stream",
       "stream": "stdout",
       "text": [
        "\r",
        " iter=    69 logz=-1835.936902"
       ]
      },
      {
       "output_type": "stream",
       "stream": "stdout",
       "text": [
        "\r",
        " iter=    70 logz=-1793.690501"
       ]
      },
      {
       "output_type": "stream",
       "stream": "stdout",
       "text": [
        "\r",
        " iter=    71 logz=-1720.359544"
       ]
      },
      {
       "output_type": "stream",
       "stream": "stdout",
       "text": [
        "\r",
        " iter=    72 logz=-1676.653225"
       ]
      },
      {
       "output_type": "stream",
       "stream": "stdout",
       "text": [
        "\r",
        " iter=    73 logz=-1515.990150"
       ]
      },
      {
       "output_type": "stream",
       "stream": "stdout",
       "text": [
        "\r",
        " iter=    74 logz=-1480.121310"
       ]
      },
      {
       "output_type": "stream",
       "stream": "stdout",
       "text": [
        "\r",
        " iter=    75 logz=-1432.945980"
       ]
      },
      {
       "output_type": "stream",
       "stream": "stdout",
       "text": [
        "\r",
        " iter=    76 logz=-1383.464346"
       ]
      },
      {
       "output_type": "stream",
       "stream": "stdout",
       "text": [
        "\r",
        " iter=    77 logz=-1382.661893"
       ]
      },
      {
       "output_type": "stream",
       "stream": "stdout",
       "text": [
        "\r",
        " iter=    78 logz=-1359.009140"
       ]
      },
      {
       "output_type": "stream",
       "stream": "stdout",
       "text": [
        "\r",
        " iter=    79 logz=-1322.876659"
       ]
      },
      {
       "output_type": "stream",
       "stream": "stdout",
       "text": [
        "\r",
        " iter=    80 logz=-1305.079311"
       ]
      },
      {
       "output_type": "stream",
       "stream": "stdout",
       "text": [
        "\r",
        " iter=    81 logz=-1304.063433"
       ]
      },
      {
       "output_type": "stream",
       "stream": "stdout",
       "text": [
        "\r",
        " iter=    82 logz=-1283.775737"
       ]
      },
      {
       "output_type": "stream",
       "stream": "stdout",
       "text": [
        "\r",
        " iter=    83 logz=-1255.989937"
       ]
      },
      {
       "output_type": "stream",
       "stream": "stdout",
       "text": [
        "\r",
        " iter=    84 logz=-1214.668722"
       ]
      },
      {
       "output_type": "stream",
       "stream": "stdout",
       "text": [
        "\r",
        " iter=    85 logz=-1190.822859"
       ]
      },
      {
       "output_type": "stream",
       "stream": "stdout",
       "text": [
        "\r",
        " iter=    86 logz=-1172.006550"
       ]
      },
      {
       "output_type": "stream",
       "stream": "stdout",
       "text": [
        "\r",
        " iter=    87 logz=-1171.256250"
       ]
      },
      {
       "output_type": "stream",
       "stream": "stdout",
       "text": [
        "\r",
        " iter=    88 logz=-1067.025617"
       ]
      },
      {
       "output_type": "stream",
       "stream": "stdout",
       "text": [
        "\r",
        " iter=    89 logz=-1051.644371"
       ]
      },
      {
       "output_type": "stream",
       "stream": "stdout",
       "text": [
        "\r",
        " iter=    90 logz=-1016.984011"
       ]
      },
      {
       "output_type": "stream",
       "stream": "stdout",
       "text": [
        "\r",
        " iter=    91 logz=-994.576019"
       ]
      },
      {
       "output_type": "stream",
       "stream": "stdout",
       "text": [
        "\r",
        " iter=    92 logz=-953.699970"
       ]
      },
      {
       "output_type": "stream",
       "stream": "stdout",
       "text": [
        "\r",
        " iter=    93 logz=-850.279611"
       ]
      },
      {
       "output_type": "stream",
       "stream": "stdout",
       "text": [
        "\r",
        " iter=    94 logz=-776.676020"
       ]
      },
      {
       "output_type": "stream",
       "stream": "stdout",
       "text": [
        "\r",
        " iter=    95 logz=-732.330526"
       ]
      },
      {
       "output_type": "stream",
       "stream": "stdout",
       "text": [
        "\r",
        " iter=    96 logz=-710.925900"
       ]
      },
      {
       "output_type": "stream",
       "stream": "stdout",
       "text": [
        "\r",
        " iter=    97 logz=-688.240752"
       ]
      },
      {
       "output_type": "stream",
       "stream": "stdout",
       "text": [
        "\r",
        " iter=    98 logz=-679.334680"
       ]
      },
      {
       "output_type": "stream",
       "stream": "stdout",
       "text": [
        "\r",
        " iter=    99 logz=-666.240474"
       ]
      },
      {
       "output_type": "stream",
       "stream": "stdout",
       "text": [
        "\r",
        " iter=   100 logz=-648.545935"
       ]
      },
      {
       "output_type": "stream",
       "stream": "stdout",
       "text": [
        "\r",
        " iter=   101 logz=-630.524703"
       ]
      },
      {
       "output_type": "stream",
       "stream": "stdout",
       "text": [
        "\r",
        " iter=   102 logz=-622.780406"
       ]
      },
      {
       "output_type": "stream",
       "stream": "stdout",
       "text": [
        "\r",
        " iter=   103 logz=-597.535415"
       ]
      },
      {
       "output_type": "stream",
       "stream": "stdout",
       "text": [
        "\r",
        " iter=   104 logz=-593.706640"
       ]
      },
      {
       "output_type": "stream",
       "stream": "stdout",
       "text": [
        "\r",
        " iter=   105 logz=-570.609584"
       ]
      },
      {
       "output_type": "stream",
       "stream": "stdout",
       "text": [
        "\r",
        " iter=   106 logz=-552.143209"
       ]
      },
      {
       "output_type": "stream",
       "stream": "stdout",
       "text": [
        "\r",
        " iter=   107 logz=-550.475290"
       ]
      },
      {
       "output_type": "stream",
       "stream": "stdout",
       "text": [
        "\r",
        " iter=   108 logz=-548.443461"
       ]
      },
      {
       "output_type": "stream",
       "stream": "stdout",
       "text": [
        "\r",
        " iter=   109 logz=-541.848880"
       ]
      },
      {
       "output_type": "stream",
       "stream": "stdout",
       "text": [
        "\r",
        " iter=   110 logz=-487.548265"
       ]
      },
      {
       "output_type": "stream",
       "stream": "stdout",
       "text": [
        "\r",
        " iter=   111 logz=-484.354625"
       ]
      },
      {
       "output_type": "stream",
       "stream": "stdout",
       "text": [
        "\r",
        " iter=   112 logz=-468.655606"
       ]
      },
      {
       "output_type": "stream",
       "stream": "stdout",
       "text": [
        "\r",
        " iter=   113 logz=-465.877669"
       ]
      },
      {
       "output_type": "stream",
       "stream": "stdout",
       "text": [
        "\r",
        " iter=   114 logz=-459.058536"
       ]
      },
      {
       "output_type": "stream",
       "stream": "stdout",
       "text": [
        "\r",
        " iter=   115 logz=-454.161177"
       ]
      },
      {
       "output_type": "stream",
       "stream": "stdout",
       "text": [
        "\r",
        " iter=   116 logz=-450.359744"
       ]
      },
      {
       "output_type": "stream",
       "stream": "stdout",
       "text": [
        "\r",
        " iter=   117 logz=-438.953717"
       ]
      },
      {
       "output_type": "stream",
       "stream": "stdout",
       "text": [
        "\r",
        " iter=   118 logz=-435.022339"
       ]
      },
      {
       "output_type": "stream",
       "stream": "stdout",
       "text": [
        "\r",
        " iter=   119 logz=-429.668732"
       ]
      },
      {
       "output_type": "stream",
       "stream": "stdout",
       "text": [
        "\r",
        " iter=   120 logz=-427.883790"
       ]
      },
      {
       "output_type": "stream",
       "stream": "stdout",
       "text": [
        "\r",
        " iter=   121 logz=-422.887260"
       ]
      },
      {
       "output_type": "stream",
       "stream": "stdout",
       "text": [
        "\r",
        " iter=   122 logz=-421.188649"
       ]
      },
      {
       "output_type": "stream",
       "stream": "stdout",
       "text": [
        "\r",
        " iter=   123 logz=-420.028110"
       ]
      },
      {
       "output_type": "stream",
       "stream": "stdout",
       "text": [
        "\r",
        " iter=   124 logz=-419.403200"
       ]
      },
      {
       "output_type": "stream",
       "stream": "stdout",
       "text": [
        "\r",
        " iter=   125 logz=-418.873947"
       ]
      },
      {
       "output_type": "stream",
       "stream": "stdout",
       "text": [
        "\r",
        " iter=   126 logz=-418.521280"
       ]
      },
      {
       "output_type": "stream",
       "stream": "stdout",
       "text": [
        "\r",
        " iter=   127 logz=-417.972578"
       ]
      },
      {
       "output_type": "stream",
       "stream": "stdout",
       "text": [
        "\r",
        " iter=   128 logz=-417.599258"
       ]
      },
      {
       "output_type": "stream",
       "stream": "stdout",
       "text": [
        "\r",
        " iter=   129 logz=-417.327858"
       ]
      },
      {
       "output_type": "stream",
       "stream": "stdout",
       "text": [
        "\r",
        " iter=   130 logz=-417.018424"
       ]
      },
      {
       "output_type": "stream",
       "stream": "stdout",
       "text": [
        "\r",
        " iter=   131 logz=-416.765762"
       ]
      },
      {
       "output_type": "stream",
       "stream": "stdout",
       "text": [
        "\r",
        " iter=   132 logz=-416.559514"
       ]
      },
      {
       "output_type": "stream",
       "stream": "stdout",
       "text": [
        "\r",
        " iter=   133 logz=-416.347750"
       ]
      },
      {
       "output_type": "stream",
       "stream": "stdout",
       "text": [
        "\r",
        " iter=   134 logz=-416.171964"
       ]
      },
      {
       "output_type": "stream",
       "stream": "stdout",
       "text": [
        "\r",
        " iter=   135 logz=-416.021655"
       ]
      },
      {
       "output_type": "stream",
       "stream": "stdout",
       "text": [
        "\r",
        " iter=   136 logz=-415.891211"
       ]
      },
      {
       "output_type": "stream",
       "stream": "stdout",
       "text": [
        "\r",
        " iter=   137 logz=-415.775059"
       ]
      },
      {
       "output_type": "stream",
       "stream": "stdout",
       "text": [
        "\r",
        " iter=   138 logz=-415.669543"
       ]
      },
      {
       "output_type": "stream",
       "stream": "stdout",
       "text": [
        "\r",
        " iter=   139 logz=-415.574429"
       ]
      },
      {
       "output_type": "stream",
       "stream": "stdout",
       "text": [
        "\r",
        " iter=   140 logz=-415.488315"
       ]
      },
      {
       "output_type": "stream",
       "stream": "stdout",
       "text": [
        "\r",
        " iter=   141 logz=-415.409780"
       ]
      },
      {
       "output_type": "stream",
       "stream": "stdout",
       "text": [
        "\r",
        " iter=   142 logz=-415.337129"
       ]
      },
      {
       "output_type": "stream",
       "stream": "stdout",
       "text": [
        "\r",
        " iter=   143 logz=-415.270036"
       ]
      },
      {
       "output_type": "stream",
       "stream": "stdout",
       "text": [
        "\r",
        " iter=   144 logz=-415.077459"
       ]
      },
      {
       "output_type": "stream",
       "stream": "stdout",
       "text": [
        "\r",
        " iter=   145 logz=-414.368279"
       ]
      },
      {
       "output_type": "stream",
       "stream": "stdout",
       "text": [
        "\r",
        " iter=   146 logz=-412.786812"
       ]
      },
      {
       "output_type": "stream",
       "stream": "stdout",
       "text": [
        "\r",
        " iter=   147 logz=-410.714803"
       ]
      },
      {
       "output_type": "stream",
       "stream": "stdout",
       "text": [
        "\r",
        " iter=   148 logz=-409.070769"
       ]
      },
      {
       "output_type": "stream",
       "stream": "stdout",
       "text": [
        "\r",
        " iter=   149 logz=-406.582786"
       ]
      },
      {
       "output_type": "stream",
       "stream": "stdout",
       "text": [
        "\r",
        " iter=   150 logz=-405.568758"
       ]
      },
      {
       "output_type": "stream",
       "stream": "stdout",
       "text": [
        "\r",
        " iter=   151 logz=-404.673257"
       ]
      },
      {
       "output_type": "stream",
       "stream": "stdout",
       "text": [
        "\r",
        " iter=   152 logz=-402.249332"
       ]
      },
      {
       "output_type": "stream",
       "stream": "stdout",
       "text": [
        "\r",
        " iter=   153 logz=-400.880721"
       ]
      },
      {
       "output_type": "stream",
       "stream": "stdout",
       "text": [
        "\r",
        " iter=   154 logz=-400.244809"
       ]
      },
      {
       "output_type": "stream",
       "stream": "stdout",
       "text": [
        "\r",
        " iter=   155 logz=-399.738586"
       ]
      },
      {
       "output_type": "stream",
       "stream": "stdout",
       "text": [
        "\r",
        " iter=   156 logz=-397.865372"
       ]
      },
      {
       "output_type": "stream",
       "stream": "stdout",
       "text": [
        "\r",
        " iter=   157 logz=-396.872031"
       ]
      },
      {
       "output_type": "stream",
       "stream": "stdout",
       "text": [
        "\r",
        " iter=   158 logz=-395.881301"
       ]
      },
      {
       "output_type": "stream",
       "stream": "stdout",
       "text": [
        "\r",
        " iter=   159 logz=-394.546304"
       ]
      },
      {
       "output_type": "stream",
       "stream": "stdout",
       "text": [
        "\r",
        " iter=   160 logz=-393.359100"
       ]
      },
      {
       "output_type": "stream",
       "stream": "stdout",
       "text": [
        "\r",
        " iter=   161 logz=-383.138773"
       ]
      },
      {
       "output_type": "stream",
       "stream": "stdout",
       "text": [
        "\r",
        " iter=   162 logz=-381.133496"
       ]
      },
      {
       "output_type": "stream",
       "stream": "stdout",
       "text": [
        "\r",
        " iter=   163 logz=-379.666360"
       ]
      },
      {
       "output_type": "stream",
       "stream": "stdout",
       "text": [
        "\r",
        " iter=   164 logz=-378.513194"
       ]
      },
      {
       "output_type": "stream",
       "stream": "stdout",
       "text": [
        "\r",
        " iter=   165 logz=-377.684031"
       ]
      },
      {
       "output_type": "stream",
       "stream": "stdout",
       "text": [
        "\r",
        " iter=   166 logz=-376.911972"
       ]
      },
      {
       "output_type": "stream",
       "stream": "stdout",
       "text": [
        "\r",
        " iter=   167 logz=-376.443565"
       ]
      },
      {
       "output_type": "stream",
       "stream": "stdout",
       "text": [
        "\r",
        " iter=   168 logz=-375.893284"
       ]
      },
      {
       "output_type": "stream",
       "stream": "stdout",
       "text": [
        "\r",
        " iter=   169 logz=-372.753758"
       ]
      },
      {
       "output_type": "stream",
       "stream": "stdout",
       "text": [
        "\r",
        " iter=   170 logz=-371.732211"
       ]
      },
      {
       "output_type": "stream",
       "stream": "stdout",
       "text": [
        "\r",
        " iter=   171 logz=-370.033929"
       ]
      },
      {
       "output_type": "stream",
       "stream": "stdout",
       "text": [
        "\r",
        " iter=   172 logz=-369.114534"
       ]
      },
      {
       "output_type": "stream",
       "stream": "stdout",
       "text": [
        "\r",
        " iter=   173 logz=-367.073912"
       ]
      },
      {
       "output_type": "stream",
       "stream": "stdout",
       "text": [
        "\r",
        " iter=   174 logz=-364.798986"
       ]
      },
      {
       "output_type": "stream",
       "stream": "stdout",
       "text": [
        "\r",
        " iter=   175 logz=-364.032597"
       ]
      },
      {
       "output_type": "stream",
       "stream": "stdout",
       "text": [
        "\r",
        " iter=   176 logz=-363.386048"
       ]
      },
      {
       "output_type": "stream",
       "stream": "stdout",
       "text": [
        "\r",
        " iter=   177 logz=-362.562808"
       ]
      },
      {
       "output_type": "stream",
       "stream": "stdout",
       "text": [
        "\r",
        " iter=   178 logz=-360.304924"
       ]
      },
      {
       "output_type": "stream",
       "stream": "stdout",
       "text": [
        "\r",
        " iter=   179 logz=-359.492691"
       ]
      },
      {
       "output_type": "stream",
       "stream": "stdout",
       "text": [
        "\r",
        " iter=   180 logz=-358.877898"
       ]
      },
      {
       "output_type": "stream",
       "stream": "stdout",
       "text": [
        "\r",
        " iter=   181 logz=-358.392920"
       ]
      },
      {
       "output_type": "stream",
       "stream": "stdout",
       "text": [
        "\r",
        " iter=   182 logz=-356.717351"
       ]
      },
      {
       "output_type": "stream",
       "stream": "stdout",
       "text": [
        "\r",
        " iter=   183 logz=-356.084551"
       ]
      },
      {
       "output_type": "stream",
       "stream": "stdout",
       "text": [
        "\r",
        " iter=   184 logz=-355.151617"
       ]
      },
      {
       "output_type": "stream",
       "stream": "stdout",
       "text": [
        "\r",
        " iter=   185 logz=-354.586716"
       ]
      },
      {
       "output_type": "stream",
       "stream": "stdout",
       "text": [
        "\r",
        " iter=   186 logz=-354.157507"
       ]
      },
      {
       "output_type": "stream",
       "stream": "stdout",
       "text": [
        "\r",
        " iter=   187 logz=-352.513207"
       ]
      },
      {
       "output_type": "stream",
       "stream": "stdout",
       "text": [
        "\r",
        " iter=   188 logz=-349.292276"
       ]
      },
      {
       "output_type": "stream",
       "stream": "stdout",
       "text": [
        "\r",
        " iter=   189 logz=-347.339838"
       ]
      },
      {
       "output_type": "stream",
       "stream": "stdout",
       "text": [
        "\r",
        " iter=   190 logz=-346.601975"
       ]
      },
      {
       "output_type": "stream",
       "stream": "stdout",
       "text": [
        "\r",
        " iter=   191 logz=-344.958609"
       ]
      },
      {
       "output_type": "stream",
       "stream": "stdout",
       "text": [
        "\r",
        " iter=   192 logz=-344.356053"
       ]
      },
      {
       "output_type": "stream",
       "stream": "stdout",
       "text": [
        "\r",
        " iter=   193 logz=-342.408044"
       ]
      },
      {
       "output_type": "stream",
       "stream": "stdout",
       "text": [
        "\r",
        " iter=   194 logz=-341.679374"
       ]
      },
      {
       "output_type": "stream",
       "stream": "stdout",
       "text": [
        "\r",
        " iter=   195 logz=-340.013462"
       ]
      },
      {
       "output_type": "stream",
       "stream": "stdout",
       "text": [
        "\r",
        " iter=   196 logz=-338.793158"
       ]
      },
      {
       "output_type": "stream",
       "stream": "stdout",
       "text": [
        "\r",
        " iter=   197 logz=-337.926992"
       ]
      },
      {
       "output_type": "stream",
       "stream": "stdout",
       "text": [
        "\r",
        " iter=   198 logz=-334.528945"
       ]
      },
      {
       "output_type": "stream",
       "stream": "stdout",
       "text": [
        "\r",
        " iter=   199 logz=-333.771434"
       ]
      },
      {
       "output_type": "stream",
       "stream": "stdout",
       "text": [
        "\r",
        " iter=   200 logz=-332.804100"
       ]
      },
      {
       "output_type": "stream",
       "stream": "stdout",
       "text": [
        "\r",
        " iter=   201 logz=-331.794510"
       ]
      },
      {
       "output_type": "stream",
       "stream": "stdout",
       "text": [
        "\r",
        " iter=   202 logz=-330.546111"
       ]
      },
      {
       "output_type": "stream",
       "stream": "stdout",
       "text": [
        "\r",
        " iter=   203 logz=-329.513870"
       ]
      },
      {
       "output_type": "stream",
       "stream": "stdout",
       "text": [
        "\r",
        " iter=   204 logz=-328.867694"
       ]
      },
      {
       "output_type": "stream",
       "stream": "stdout",
       "text": [
        "\r",
        " iter=   205 logz=-328.398966"
       ]
      },
      {
       "output_type": "stream",
       "stream": "stdout",
       "text": [
        "\r",
        " iter=   206 logz=-328.041749"
       ]
      },
      {
       "output_type": "stream",
       "stream": "stdout",
       "text": [
        "\r",
        " iter=   207 logz=-327.523703"
       ]
      },
      {
       "output_type": "stream",
       "stream": "stdout",
       "text": [
        "\r",
        " iter=   208 logz=-326.776527"
       ]
      },
      {
       "output_type": "stream",
       "stream": "stdout",
       "text": [
        "\r",
        " iter=   209 logz=-325.832499"
       ]
      },
      {
       "output_type": "stream",
       "stream": "stdout",
       "text": [
        "\r",
        " iter=   210 logz=-324.303714"
       ]
      },
      {
       "output_type": "stream",
       "stream": "stdout",
       "text": [
        "\r",
        " iter=   211 logz=-323.674204"
       ]
      },
      {
       "output_type": "stream",
       "stream": "stdout",
       "text": [
        "\r",
        " iter=   212 logz=-321.956001"
       ]
      },
      {
       "output_type": "stream",
       "stream": "stdout",
       "text": [
        "\r",
        " iter=   213 logz=-320.620920"
       ]
      },
      {
       "output_type": "stream",
       "stream": "stdout",
       "text": [
        "\r",
        " iter=   214 logz=-319.653605"
       ]
      },
      {
       "output_type": "stream",
       "stream": "stdout",
       "text": [
        "\r",
        " iter=   215 logz=-319.036586"
       ]
      },
      {
       "output_type": "stream",
       "stream": "stdout",
       "text": [
        "\r",
        " iter=   216 logz=-318.658839"
       ]
      },
      {
       "output_type": "stream",
       "stream": "stdout",
       "text": [
        "\r",
        " iter=   217 logz=-317.157071"
       ]
      },
      {
       "output_type": "stream",
       "stream": "stdout",
       "text": [
        "\r",
        " iter=   218 logz=-315.784004"
       ]
      },
      {
       "output_type": "stream",
       "stream": "stdout",
       "text": [
        "\r",
        " iter=   219 logz=-315.131139"
       ]
      },
      {
       "output_type": "stream",
       "stream": "stdout",
       "text": [
        "\r",
        " iter=   220 logz=-314.632466"
       ]
      },
      {
       "output_type": "stream",
       "stream": "stdout",
       "text": [
        "\r",
        " iter=   221 logz=-314.193076"
       ]
      },
      {
       "output_type": "stream",
       "stream": "stdout",
       "text": [
        "\r",
        " iter=   222 logz=-313.890420"
       ]
      },
      {
       "output_type": "stream",
       "stream": "stdout",
       "text": [
        "\r",
        " iter=   223 logz=-313.179459"
       ]
      },
      {
       "output_type": "stream",
       "stream": "stdout",
       "text": [
        "\r",
        " iter=   224 logz=-312.338862"
       ]
      },
      {
       "output_type": "stream",
       "stream": "stdout",
       "text": [
        "\r",
        " iter=   225 logz=-311.010047"
       ]
      },
      {
       "output_type": "stream",
       "stream": "stdout",
       "text": [
        "\r",
        " iter=   226 logz=-310.213583"
       ]
      },
      {
       "output_type": "stream",
       "stream": "stdout",
       "text": [
        "\r",
        " iter=   227 logz=-309.738257"
       ]
      },
      {
       "output_type": "stream",
       "stream": "stdout",
       "text": [
        "\r",
        " iter=   228 logz=-308.839802"
       ]
      },
      {
       "output_type": "stream",
       "stream": "stdout",
       "text": [
        "\r",
        " iter=   229 logz=-307.665270"
       ]
      },
      {
       "output_type": "stream",
       "stream": "stdout",
       "text": [
        "\r",
        " iter=   230 logz=-306.878724"
       ]
      },
      {
       "output_type": "stream",
       "stream": "stdout",
       "text": [
        "\r",
        " iter=   231 logz=-305.918069"
       ]
      },
      {
       "output_type": "stream",
       "stream": "stdout",
       "text": [
        "\r",
        " iter=   232 logz=-305.065353"
       ]
      },
      {
       "output_type": "stream",
       "stream": "stdout",
       "text": [
        "\r",
        " iter=   233 logz=-303.474955"
       ]
      },
      {
       "output_type": "stream",
       "stream": "stdout",
       "text": [
        "\r",
        " iter=   234 logz=-302.746199"
       ]
      },
      {
       "output_type": "stream",
       "stream": "stdout",
       "text": [
        "\r",
        " iter=   235 logz=-302.287251"
       ]
      },
      {
       "output_type": "stream",
       "stream": "stdout",
       "text": [
        "\r",
        " iter=   236 logz=-301.608507"
       ]
      },
      {
       "output_type": "stream",
       "stream": "stdout",
       "text": [
        "\r",
        " iter=   237 logz=-299.796985"
       ]
      },
      {
       "output_type": "stream",
       "stream": "stdout",
       "text": [
        "\r",
        " iter=   238 logz=-299.092465"
       ]
      },
      {
       "output_type": "stream",
       "stream": "stdout",
       "text": [
        "\r",
        " iter=   239 logz=-297.706247"
       ]
      },
      {
       "output_type": "stream",
       "stream": "stdout",
       "text": [
        "\r",
        " iter=   240 logz=-296.972367"
       ]
      },
      {
       "output_type": "stream",
       "stream": "stdout",
       "text": [
        "\r",
        " iter=   241 logz=-296.417130"
       ]
      },
      {
       "output_type": "stream",
       "stream": "stdout",
       "text": [
        "\r",
        " iter=   242 logz=-296.009374"
       ]
      },
      {
       "output_type": "stream",
       "stream": "stdout",
       "text": [
        "\r",
        " iter=   243 logz=-295.446806"
       ]
      },
      {
       "output_type": "stream",
       "stream": "stdout",
       "text": [
        "\r",
        " iter=   244 logz=-294.778620"
       ]
      },
      {
       "output_type": "stream",
       "stream": "stdout",
       "text": [
        "\r",
        " iter=   245 logz=-294.216674"
       ]
      },
      {
       "output_type": "stream",
       "stream": "stdout",
       "text": [
        "\r",
        " iter=   246 logz=-293.637166"
       ]
      },
      {
       "output_type": "stream",
       "stream": "stdout",
       "text": [
        "\r",
        " iter=   247 logz=-292.865710"
       ]
      },
      {
       "output_type": "stream",
       "stream": "stdout",
       "text": [
        "\r",
        " iter=   248 logz=-292.398814"
       ]
      },
      {
       "output_type": "stream",
       "stream": "stdout",
       "text": [
        "\r",
        " iter=   249 logz=-292.084437"
       ]
      },
      {
       "output_type": "stream",
       "stream": "stdout",
       "text": [
        "\r",
        " iter=   250 logz=-291.678368"
       ]
      },
      {
       "output_type": "stream",
       "stream": "stdout",
       "text": [
        "\r",
        " iter=   251 logz=-291.254663"
       ]
      },
      {
       "output_type": "stream",
       "stream": "stdout",
       "text": [
        "\r",
        " iter=   252 logz=-290.887923"
       ]
      },
      {
       "output_type": "stream",
       "stream": "stdout",
       "text": [
        "\r",
        " iter=   253 logz=-290.590210"
       ]
      },
      {
       "output_type": "stream",
       "stream": "stdout",
       "text": [
        "\r",
        " iter=   254 logz=-290.276219"
       ]
      },
      {
       "output_type": "stream",
       "stream": "stdout",
       "text": [
        "\r",
        " iter=   255 logz=-290.021934"
       ]
      },
      {
       "output_type": "stream",
       "stream": "stdout",
       "text": [
        "\r",
        " iter=   256 logz=-288.950076"
       ]
      },
      {
       "output_type": "stream",
       "stream": "stdout",
       "text": [
        "\r",
        " iter=   257 logz=-288.258610"
       ]
      }
     ]
    },
    {
     "cell_type": "code",
     "collapsed": false,
     "input": [
      "fig = sncosmo.plot_lc(sn, model=(model, fit_model, nest_model), model_label=('SIM', 'Fit', 'nest'))"
     ],
     "language": "python",
     "metadata": {},
     "outputs": []
    },
    {
     "cell_type": "heading",
     "level": 3,
     "metadata": {},
     "source": [
      "Other Functions"
     ]
    },
    {
     "cell_type": "code",
     "collapsed": false,
     "input": [
      "def lc(SNID, filename, location=\"./\"):\n",
      "    from astropy.io import fits\n",
      "    summaryfile = location + '/' +filename + \"_HEAD.FITS\"\n",
      "    photofile = location + '/' + filename + \"_PHOT.FITS\"\n",
      "\n",
      "    \n",
      "    summary = Table(fits.open(summaryfile)[1].data)\n",
      "    \n",
      "    snpointers = summary[np.array(map(int,summary[\"SNID\"]))==SNID]\n",
      "    ptrobs_min = snpointers[\"PTROBS_MIN\"][0]\n",
      "    ptrobs_max = snpointers[\"PTROBS_MAX\"][0]\n",
      "        \n",
      "    lc = Table(fits.open(photofile)[1].data[ptrobs_min: ptrobs_max])\n",
      "    lc.rename_column(\"FLUXCAL\", \"flux\")\n",
      "    lc.rename_column(\"FLUXCALERR\",\"fluxerr\")\n",
      "    lc.rename_column(\"ZEROPT\",\"ZP\")\n",
      "    #lc = photofile\n",
      "    return lc"
     ],
     "language": "python",
     "metadata": {},
     "outputs": []
    }
   ],
   "metadata": {}
  }
 ]
}